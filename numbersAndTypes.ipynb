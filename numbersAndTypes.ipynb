{
 "cells": [
  {
   "cell_type": "code",
   "execution_count": null,
   "id": "eeeb5416",
   "metadata": {},
   "outputs": [],
   "source": [
    "seconds_per_hour = 60 * 60\n",
    "seconds_per_day = seconds_per_hour * 24\n",
    "seconds_per_day / seconds_per_hour\n",
    "\n",
    "print(\"Seconds in an hour: \" + str(seconds_per_hour))\n",
    "print(\"Seconds in a day: \" + str(seconds_per_day))\n",
    "print(str(seconds_per_day / seconds_per_hour))\n",
    "print(str(seconds_per_day // seconds_per_hour))"
   ]
  }
 ],
 "metadata": {
  "kernelspec": {
   "display_name": "Python 3 (ipykernel)",
   "language": "python",
   "name": "python3"
  },
  "language_info": {
   "codemirror_mode": {
    "name": "ipython",
    "version": 3
   },
   "file_extension": ".py",
   "mimetype": "text/x-python",
   "name": "python",
   "nbconvert_exporter": "python",
   "pygments_lexer": "ipython3",
   "version": "3.11.4"
  }
 },
 "nbformat": 4,
 "nbformat_minor": 5
}
